{
 "cells": [
  {
   "cell_type": "code",
   "execution_count": 4,
   "id": "fe222b6c-da5a-4e94-bb87-a9f95dc9054d",
   "metadata": {},
   "outputs": [
    {
     "data": {
      "text/plain": [
       "(90, 9)"
      ]
     },
     "execution_count": 4,
     "metadata": {},
     "output_type": "execute_result"
    }
   ],
   "source": [
    "import pandas as pd\n",
    "\n",
    "origin_my_data = pd.DataFrame()\n",
    "origin_my_data = pd.read_csv('250623/서울_대기오염_데이터_2025.csv')\n",
    "\n",
    "origin_my_data.shape"
   ]
  },
  {
   "cell_type": "code",
   "execution_count": null,
   "id": "8edb4b5d-498b-4de4-8c1d-ab00346ce81f",
   "metadata": {},
   "outputs": [],
   "source": []
  }
 ],
 "metadata": {
  "kernelspec": {
   "display_name": "Python 3 (ipykernel)",
   "language": "python",
   "name": "python3"
  },
  "language_info": {
   "codemirror_mode": {
    "name": "ipython",
    "version": 3
   },
   "file_extension": ".py",
   "mimetype": "text/x-python",
   "name": "python",
   "nbconvert_exporter": "python",
   "pygments_lexer": "ipython3",
   "version": "3.10.3"
  }
 },
 "nbformat": 4,
 "nbformat_minor": 5
}
